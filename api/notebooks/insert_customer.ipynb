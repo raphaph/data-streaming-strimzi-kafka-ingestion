{
 "cells": [
  {
   "cell_type": "code",
   "execution_count": null,
   "metadata": {},
   "outputs": [],
   "source": [
    "import os\n",
    "import time\n",
    "import argparse\n",
    "import pandas as pd\n",
    "import numpy as np\n",
    "from faker import Faker\n",
    "from sqlalchemy import create_engine\n",
    "from datetime import datetime\n",
    "from dotenv import load_dotenv\n",
    "\n",
    "load_dotenv()"
   ]
  },
  {
   "cell_type": "code",
   "execution_count": null,
   "metadata": {},
   "outputs": [],
   "source": [
    "username = os.environ.get(\"POSTGRES_DATABASE_USER\")\n",
    "password = os.environ.get(\"POSTGRES_PASSWORD\")\n",
    "host     = os.environ.get(\"POSTGRES_HOST\")\n",
    "port     = os.environ.get(\"POSTGRES_PORT\")\n",
    "database = os.environ.get(\"POSTGRES_DATABASE\")\n",
    "table    = os.environ.get(\"POSTGRES_TABLE\")"
   ]
  },
  {
   "cell_type": "code",
   "execution_count": null,
   "metadata": {},
   "outputs": [],
   "source": [
    "# função para parsear a saída do parâmetro SILENT\n",
    "def str2bool(v):\n",
    "    if isinstance(v, bool):\n",
    "       return v\n",
    "    if v.lower() in ('yes', 'true', 't', 'y', '1'):\n",
    "        return True\n",
    "    elif v.lower() in ('no', 'false', 'f', 'n', '0'):\n",
    "        return False\n",
    "    else:\n",
    "        raise argparse.ArgumentTypeError('Boolean value expected.')"
   ]
  },
  {
   "cell_type": "code",
   "execution_count": null,
   "metadata": {},
   "outputs": [],
   "source": [
    "# Instancia a classe Faker\n",
    "faker = Faker()\n",
    "\n",
    "if __name__ == \"__main__\":\n",
    "\n",
    "    parser = argparse.ArgumentParser(description='Generate fake data...')\n",
    "\n",
    "    parser.add_argument('--interval', type=int, default=.5,\n",
    "                        help='interval of generating fake data in seconds')\n",
    "    parser.add_argument('-n', type=int, default=1,\n",
    "                        help='sample size')\n",
    "    parser.add_argument('--connection-string', '-cs', dest=\"connection_string\", \n",
    "                        type=str, default=f'postgresql://{username}:{password}@{host}:{port}/{database}',\n",
    "                        help='Connection string to the database')\n",
    "    parser.add_argument('--silent', type=str2bool, nargs='?',\n",
    "                        const=True, default=False,\n",
    "                        help=\"print fake data\")\n",
    "\n",
    "    args, unknown = parser.parse_known_args()\n",
    "    \n",
    "    print(f\"Args parsed:\")\n",
    "    print(f\"Interval: {args.interval}\")\n",
    "    print(f\"Sample size; {args.n}\")\n",
    "    \n",
    "    #-----------------------------------------------------------------\n",
    "\n",
    "    engine = create_engine(args.connection_string)\n",
    "\n",
    "    print(\"Iniciando a simulacao...\", end=\"\\n\\n\")\n",
    "\n",
    "    # Gera dados fake a faz ingestão\n",
    "    while True:\n",
    "        nome       = [faker.name() for i in range(args.n)]\n",
    "        gender     = [np.random.choice([\"M\", \"F\"], p=[0.5, 0.5]) for i in range(args.n)]\n",
    "        endereco   = [faker.address() for i in range(args.n)]\n",
    "        telefone   = [faker.phone_number() for i in range(args.n)]\n",
    "        email      = [faker.safe_email() for i in range(args.n)]\n",
    "        foto       = [faker.image_url() for i in range(args.n)]\n",
    "        nascimento = [faker.date_of_birth() for i in range(args.n)]\n",
    "        profissao  = [faker.job() for i in range(args.n)]\n",
    "        dt_update  = [datetime.now() for i in range(args.n)]\n",
    "\n",
    "        df = pd.DataFrame({\n",
    "            \"nome\": nome,\n",
    "            \"sexo\": gender,\n",
    "            \"endereco\": endereco,\n",
    "            \"telefone\": telefone,\n",
    "            \"email\": email,\n",
    "            \"foto\": foto,\n",
    "            \"nascimento\": nascimento,\n",
    "            \"profissao\": profissao,\n",
    "            \"dt_update\": dt_update\n",
    "        })\n",
    "\n",
    "        df.to_sql(\"customers\", con=engine, if_exists=\"append\", index=False)\n",
    "\n",
    "        if not args.silent:\n",
    "            print(df, end=\"\\n\\n\")\n",
    "\n",
    "        time.sleep(args.interval)"
   ]
  }
 ],
 "metadata": {
  "kernelspec": {
   "display_name": ".venv",
   "language": "python",
   "name": "python3"
  },
  "language_info": {
   "codemirror_mode": {
    "name": "ipython",
    "version": 3
   },
   "file_extension": ".py",
   "mimetype": "text/x-python",
   "name": "python",
   "nbconvert_exporter": "python",
   "pygments_lexer": "ipython3",
   "version": "3.11.9"
  }
 },
 "nbformat": 4,
 "nbformat_minor": 2
}
